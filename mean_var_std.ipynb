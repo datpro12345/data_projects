{
 "cells": [
  {
   "metadata": {},
   "cell_type": "markdown",
   "source": [
    "# Function `calculate()` Overview\n",
    "\n",
    "Create a function named `calculate()` in `mean_var_std.py` that utilizes Numpy to perform statistical operations on a 3 x 3 matrix. The function will provide the mean, variance, standard deviation, maximum, minimum, and sum of the rows, columns, and all elements in the matrix.\n",
    "\n",
    "## Input\n",
    "\n",
    "- The input should be a list of 9 digits.\n",
    "- This list is converted into a 3 x 3 Numpy array within the function.\n",
    "\n",
    "## Output\n",
    "\n",
    "- The function returns a dictionary with statistics calculated along both axes and for the flattened array. \n",
    "- Output format:\n",
    "  ```python\n",
    "  {\n",
    "    'mean': [axis1, axis2, flattened],\n",
    "    'variance': [axis1, axis2, flattened],\n",
    "    'standard deviation': [axis1, axis2, flattened],\n",
    "    'max': [axis1, axis2, flattened],\n",
    "    'min': [axis1, axis2, flattened],\n",
    "    'sum': [axis1, axis2, flattened]\n",
    "  }"
   ],
   "id": "a484f23e04397d2d"
  },
  {
   "metadata": {},
   "cell_type": "markdown",
   "source": "# Solution:",
   "id": "baabd692cd08a393"
  },
  {
   "metadata": {
    "ExecuteTime": {
     "end_time": "2024-04-16T11:17:12.565741Z",
     "start_time": "2024-04-16T11:17:11.676725Z"
    }
   },
   "cell_type": "code",
   "source": "!pip install numpy",
   "id": "706efab858bbe538",
   "outputs": [
    {
     "name": "stdout",
     "output_type": "stream",
     "text": [
      "Requirement already satisfied: numpy in ./.venv/lib/python3.9/site-packages (1.26.4)\r\n",
      "\r\n",
      "\u001B[1m[\u001B[0m\u001B[34;49mnotice\u001B[0m\u001B[1;39;49m]\u001B[0m\u001B[39;49m A new release of pip is available: \u001B[0m\u001B[31;49m23.2.1\u001B[0m\u001B[39;49m -> \u001B[0m\u001B[32;49m24.0\u001B[0m\r\n",
      "\u001B[1m[\u001B[0m\u001B[34;49mnotice\u001B[0m\u001B[1;39;49m]\u001B[0m\u001B[39;49m To update, run: \u001B[0m\u001B[32;49mpip install --upgrade pip\u001B[0m\r\n"
     ]
    }
   ],
   "execution_count": 8
  },
  {
   "metadata": {
    "ExecuteTime": {
     "end_time": "2024-04-16T11:17:12.574282Z",
     "start_time": "2024-04-16T11:17:12.567565Z"
    }
   },
   "cell_type": "code",
   "source": [
    "import numpy as np\n",
    "\n",
    "def calculate(list_input):\n",
    "    if len(list_input) != 9:\n",
    "        raise ValueError(\"List must contain nine numbers.\")\n",
    "    \n",
    "    # Convert the list to a 3 x 3 Numpy array\n",
    "    matrix = np.array(list_input).reshape(3, 3)\n",
    "    \n",
    "    # Calculate the required statistics\n",
    "    calculations = {\n",
    "        'mean': [list(np.mean(matrix, axis=0)), list(np.mean(matrix, axis=1)), np.mean(matrix)],\n",
    "        'variance': [list(np.var(matrix, axis=0)), list(np.var(matrix, axis=1)), np.var(matrix)],\n",
    "        'standard deviation': [list(np.std(matrix, axis=0)), list(np.std(matrix, axis=1)), np.std(matrix)],\n",
    "        'max': [list(np.max(matrix, axis=0)), list(np.max(matrix, axis=1)), np.max(matrix)],\n",
    "        'min': [list(np.min(matrix, axis=0)), list(np.min(matrix, axis=1)), np.min(matrix)],\n",
    "        'sum': [list(np.sum(matrix, axis=0)), list(np.sum(matrix, axis=1)), np.sum(matrix)]\n",
    "    }\n",
    "\n",
    "    return calculations\n"
   ],
   "id": "9e8bcd3b80afb10c",
   "outputs": [],
   "execution_count": 9
  },
  {
   "metadata": {},
   "cell_type": "markdown",
   "source": "# Testing:\n",
   "id": "f4f46f44b64bb1bd"
  },
  {
   "metadata": {
    "ExecuteTime": {
     "end_time": "2024-04-16T11:17:12.583650Z",
     "start_time": "2024-04-16T11:17:12.580535Z"
    }
   },
   "cell_type": "code",
   "source": "print(calculate([0, 1, 2, 3, 4, 5, 6, 7, 8]))",
   "id": "434c2b90f84734c8",
   "outputs": [
    {
     "name": "stdout",
     "output_type": "stream",
     "text": [
      "{'mean': [[3.0, 4.0, 5.0], [1.0, 4.0, 7.0], 4.0], 'variance': [[6.0, 6.0, 6.0], [0.6666666666666666, 0.6666666666666666, 0.6666666666666666], 6.666666666666667], 'standard deviation': [[2.449489742783178, 2.449489742783178, 2.449489742783178], [0.816496580927726, 0.816496580927726, 0.816496580927726], 2.581988897471611], 'max': [[6, 7, 8], [2, 5, 8], 8], 'min': [[0, 1, 2], [0, 3, 6], 0], 'sum': [[9, 12, 15], [3, 12, 21], 36]}\n"
     ]
    }
   ],
   "execution_count": 10
  }
 ],
 "metadata": {
  "kernelspec": {
   "display_name": "Python 3",
   "language": "python",
   "name": "python3"
  },
  "language_info": {
   "codemirror_mode": {
    "name": "ipython",
    "version": 2
   },
   "file_extension": ".py",
   "mimetype": "text/x-python",
   "name": "python",
   "nbconvert_exporter": "python",
   "pygments_lexer": "ipython2",
   "version": "2.7.6"
  }
 },
 "nbformat": 4,
 "nbformat_minor": 5
}
